{
 "cells": [
  {
   "cell_type": "code",
   "execution_count": null,
   "id": "37f6c801",
   "metadata": {},
   "outputs": [],
   "source": [
    "!pip install selenium\n",
    "!pip install webdriver_manager"
   ]
  },
  {
   "cell_type": "code",
   "execution_count": 3,
   "id": "39d3d010",
   "metadata": {},
   "outputs": [
    {
     "name": "stdout",
     "output_type": "stream",
     "text": [
      "Enter location to search hotels: vellore\n",
      "Hotels data has been saved and printed.\n"
     ]
    }
   ],
   "source": [
    "import csv\n",
    "from selenium import webdriver\n",
    "from selenium.webdriver.common.by import By\n",
    "from selenium.webdriver.chrome.service import Service\n",
    "from selenium.webdriver.chrome.options import Options\n",
    "from webdriver_manager.chrome import ChromeDriverManager\n",
    "import time\n",
    "\n",
    "# Function to set up the driver\n",
    "def setup_driver():\n",
    "    options = Options()\n",
    "    options.headless = True  # Set to True for no browser popup\n",
    "    driver = webdriver.Chrome(service=Service(ChromeDriverManager().install()), options=options)\n",
    "    return driver\n",
    "\n",
    "def fetch_hotels(search_query):\n",
    "    driver = setup_driver()\n",
    "    url = f\"https://www.google.com/travel/search?q={search_query}\"\n",
    "    driver.get(url)\n",
    "    time.sleep(10)  # Wait for the dynamic content to load\n",
    "    \n",
    "    # Scroll to load all hotels\n",
    "    for _ in range(3):  # May need adjustment based on actual page response\n",
    "        driver.execute_script(\"window.scrollTo(0, document.body.scrollHeight);\")\n",
    "        time.sleep(3)  # Allow time for lazy-loaded content\n",
    "\n",
    "    # Prepare to write to CSV\n",
    "    with open('hotels.csv', mode='w', newline='', encoding='utf-8') as file:\n",
    "        writer = csv.writer(file)\n",
    "        writer.writerow(['Hotel Name', 'Price'])\n",
    "        \n",
    "        # Process each hotel listing\n",
    "        hotel_listings = driver.find_elements(By.XPATH, \"//div[@data-index='4']//a[contains(@class, 'PVOOXe')]\")\n",
    "        count = 0\n",
    "\n",
    "        for listing in hotel_listings:\n",
    "            if count >= 15:\n",
    "                break\n",
    "            try:\n",
    "                hotel_name = listing.get_attribute('aria-label')\n",
    "                price_element = listing.find_element(By.XPATH, \".//following-sibling::div//span[@class='W9vOvb nDkDDb']\")\n",
    "                price = price_element.text\n",
    "                writer.writerow([hotel_name, price])\n",
    "                print(f\"Hotel: {hotel_name}, Price: {price}\")\n",
    "                count += 1\n",
    "            except Exception as e:\n",
    "                print(f\"Error extracting data for a hotel: {e}\")\n",
    "    \n",
    "    driver.quit()\n",
    "\n",
    "# Usage\n",
    "search_query = input(\"Enter location to search hotels: \")\n",
    "fetch_hotels(search_query)\n",
    "print(\"Hotels data has been saved and printed.\")\n"
   ]
  },
  {
   "cell_type": "code",
   "execution_count": 7,
   "id": "73ee25af",
   "metadata": {},
   "outputs": [
    {
     "name": "stdout",
     "output_type": "stream",
     "text": [
      "Enter the location to search hotels: Vellore\n",
      "{\n",
      "    \"search_metadata\": {\n",
      "        \"status\": \"Checking browser...\"\n",
      "    }\n",
      "}\n"
     ]
    }
   ],
   "source": [
    "from selenium import webdriver\n",
    "from selenium.webdriver.common.by import By\n",
    "from selenium.webdriver.chrome.service import Service\n",
    "from selenium.webdriver.chrome.options import Options\n",
    "from webdriver_manager.chrome import ChromeDriverManager\n",
    "import json\n",
    "from selenium.webdriver.chrome.options import Options\n",
    "\n",
    "options = Options()\n",
    "options.add_argument(\"user-agent=Mozilla/5.0 (Windows NT 10.0; Win64; x64) AppleWebKit/537.36 (KHTML, like Gecko) Chrome/58.0.3029.110 Safari/537.36\")\n",
    "\n",
    "\n",
    "def setup_driver():\n",
    "    options = Options()\n",
    "#     options.add_argument(\"--headless\")\n",
    "    options.add_experimental_option('excludeSwitches', ['enable-logging'])\n",
    "    driver = webdriver.Chrome(service=Service(ChromeDriverManager().install()), options=options)\n",
    "    return driver\n",
    "\n",
    "def fetch_json_data(search_query):\n",
    "    driver = setup_driver()\n",
    "    # Update the URL based on the search query\n",
    "    url = f\"https://serpapi.com/playground?engine=google_hotels&q={search_query}&gl=us&hl=en&currency=INR&check_in_date=2024-04-24&check_out_date=2024-04-25\"\n",
    "    driver.get(url)\n",
    "    \n",
    "    # Wait for the element containing the JSON data to load\n",
    "    driver.implicitly_wait(15)  # Adjust this time based on your network speed\n",
    "    \n",
    "    # Locate the element by XPath and extract its JSON content\n",
    "    try:\n",
    "        element = driver.find_element(By.XPATH, \"/html/body/div[1]/div[2]/main/div/div[6]/div[2]/div/div/div[2]\")\n",
    "        json_data = element.text\n",
    "        parsed_data = json.loads(json_data)\n",
    "        print(json.dumps(parsed_data, indent=4))  # Print formatted JSON\n",
    "    except Exception as e:\n",
    "        print(f\"Error retrieving JSON data: {e}\")\n",
    "    \n",
    "    driver.quit()\n",
    "\n",
    "# Usage\n",
    "search_query = input(\"Enter the location to search hotels: \")\n",
    "fetch_json_data(search_query)\n"
   ]
  },
  {
   "cell_type": "code",
   "execution_count": null,
   "id": "9c4ba72f",
   "metadata": {},
   "outputs": [],
   "source": []
  }
 ],
 "metadata": {
  "kernelspec": {
   "display_name": "Python 3 (ipykernel)",
   "language": "python",
   "name": "python3"
  },
  "language_info": {
   "codemirror_mode": {
    "name": "ipython",
    "version": 3
   },
   "file_extension": ".py",
   "mimetype": "text/x-python",
   "name": "python",
   "nbconvert_exporter": "python",
   "pygments_lexer": "ipython3",
   "version": "3.11.5"
  }
 },
 "nbformat": 4,
 "nbformat_minor": 5
}
